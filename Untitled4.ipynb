{
 "cells": [
  {
   "cell_type": "code",
   "execution_count": 1,
   "metadata": {},
   "outputs": [],
   "source": [
    "import numpy as np\n",
    "import pandas as pd\n",
    "from sklearn.model_selection import train_test_split\n",
    "from sklearn import linear_model, metrics\n",
    "from IPython.display import SVG, Image, HTML\n",
    "from sklearn import tree"
   ]
  },
  {
   "cell_type": "markdown",
   "metadata": {},
   "source": [
    "Добавляем тxт файл"
   ]
  },
  {
   "cell_type": "code",
   "execution_count": 2,
   "metadata": {},
   "outputs": [],
   "source": [
    "inform = pd.read_csv('wifi_localization.txt', sep=\"\\t\", header=None)\n"
   ]
  },
  {
   "cell_type": "markdown",
   "metadata": {},
   "source": [
    "Разбиение(или как там правильно) таблицы\n"
   ]
  },
  {
   "cell_type": "code",
   "execution_count": 4,
   "metadata": {},
   "outputs": [],
   "source": [
    "inform = np.hsplit(inform, [0,7])"
   ]
  },
  {
   "cell_type": "markdown",
   "metadata": {},
   "source": [
    "Присвоение x1 и x2 осколков нашей таблички\n"
   ]
  },
  {
   "cell_type": "code",
   "execution_count": 5,
   "metadata": {},
   "outputs": [],
   "source": [
    "x1 = inform[1] \n",
    "x2 = inform[2]"
   ]
  },
  {
   "cell_type": "markdown",
   "metadata": {},
   "source": [
    "Разобьем наши данные на обучение и тест"
   ]
  },
  {
   "cell_type": "code",
   "execution_count": 6,
   "metadata": {},
   "outputs": [],
   "source": [
    "x1_train, x1_test, x2_train, x2_test = train_test_split(x1, x2, test_size=0.2, stratify=x2, shuffle=True)"
   ]
  },
  {
   "cell_type": "markdown",
   "metadata": {},
   "source": [
    "Построение классификатора логистической регрессии "
   ]
  },
  {
   "cell_type": "code",
   "execution_count": 7,
   "metadata": {},
   "outputs": [],
   "source": [
    "modell = linear_model.LogisticRegression()"
   ]
  },
  {
   "cell_type": "markdown",
   "metadata": {},
   "source": [
    "Обучение модели"
   ]
  },
  {
   "cell_type": "markdown",
   "metadata": {},
   "source": [
    "modell.fit(x1_train, x2_train)"
   ]
  },
  {
   "cell_type": "markdown",
   "metadata": {},
   "source": [
    "Как говорят у меня на родине \"Predict using the linear model\"\n"
   ]
  },
  {
   "cell_type": "code",
   "execution_count": 10,
   "metadata": {},
   "outputs": [],
   "source": [
    "m_pred = modell.predict(x1_test)\n"
   ]
  },
  {
   "cell_type": "markdown",
   "metadata": {},
   "source": [
    "Вывод правильных данных, предсказанных данных и метрики качества"
   ]
  },
  {
   "cell_type": "code",
   "execution_count": 11,
   "metadata": {},
   "outputs": [
    {
     "name": "stdout",
     "output_type": "stream",
     "text": [
      "      7\n",
      "1759  4\n",
      "644   2\n",
      "265   1\n",
      "1555  4\n",
      "444   1\n",
      "1304  3\n",
      "1062  3\n",
      "1085  3\n",
      "1157  3\n",
      "640   2\n",
      "1179  3\n",
      "782   2\n",
      "1595  4\n",
      "963   2\n",
      "36    1\n",
      "900   2\n",
      "1521  4\n",
      "1911  4\n",
      "1405  3\n",
      "489   1\n",
      "627   2\n",
      "1569  4\n",
      "445   1\n",
      "303   1\n",
      "220   1\n",
      "1535  4\n",
      "134   1\n",
      "1601  4\n",
      "1642  4\n",
      "1779  4\n",
      "...  ..\n",
      "411   1\n",
      "1829  4\n",
      "492   1\n",
      "1986  4\n",
      "937   2\n",
      "1349  3\n",
      "1377  3\n",
      "1589  4\n",
      "1325  3\n",
      "1945  4\n",
      "170   1\n",
      "1774  4\n",
      "1413  3\n",
      "136   1\n",
      "924   2\n",
      "1526  4\n",
      "1295  3\n",
      "978   2\n",
      "1669  4\n",
      "1209  3\n",
      "999   2\n",
      "1729  4\n",
      "432   1\n",
      "667   2\n",
      "306   1\n",
      "1072  3\n",
      "313   1\n",
      "509   2\n",
      "15    1\n",
      "713   2\n",
      "\n",
      "[400 rows x 1 columns]\n",
      "[4 2 1 4 1 3 3 3 3 2 3 2 4 2 1 2 4 4 3 1 2 4 1 1 1 4 1 4 4 4 2 3 4 1 3 1 2\n",
      " 3 3 1 4 3 3 2 4 1 4 3 3 1 1 2 1 3 2 2 2 3 1 2 4 2 4 4 2 1 3 2 4 4 3 2 1 3\n",
      " 4 3 3 4 2 1 3 3 1 3 2 1 4 4 3 1 2 1 1 3 1 1 1 4 3 1 1 2 3 4 1 1 1 2 2 4 3\n",
      " 1 3 2 4 3 2 3 2 1 1 4 2 3 2 3 3 1 3 1 4 1 1 1 1 4 1 2 3 4 1 1 2 4 2 1 3 1\n",
      " 2 2 2 3 1 4 3 4 4 4 3 4 2 4 1 1 1 2 2 2 1 2 2 3 4 1 1 4 2 4 3 1 2 3 2 1 4\n",
      " 2 3 2 4 4 2 4 4 1 3 1 1 3 1 4 3 3 4 1 3 2 1 3 3 1 2 2 4 3 2 2 3 2 3 4 1 2\n",
      " 2 4 2 4 2 1 2 4 2 4 4 3 2 1 1 3 2 3 3 1 4 2 2 3 3 3 3 3 1 3 1 3 4 3 4 2 2\n",
      " 3 3 3 1 3 1 2 1 4 2 3 4 4 2 4 4 2 4 4 1 1 1 4 3 3 2 1 3 1 4 1 2 1 2 1 1 1\n",
      " 4 2 2 2 1 4 2 1 2 4 4 2 4 1 3 2 1 2 2 3 3 1 2 4 4 2 3 1 2 3 4 1 2 4 3 3 1\n",
      " 4 4 3 1 2 2 2 4 1 4 2 4 4 2 3 4 3 2 2 1 3 3 4 3 4 2 4 4 2 2 2 2 2 2 4 4 4\n",
      " 1 4 1 4 2 3 3 4 3 4 1 4 2 1 2 4 3 2 4 2 2 4 1 2 1 3 1 2 1 2]\n",
      "Accuracy 0.9575\n"
     ]
    }
   ],
   "source": [
    "print(x2_test)\n",
    "print(m_pred)\n",
    "print(\"Accuracy\", metrics.accuracy_score(x2_test, m_pred))"
   ]
  },
  {
   "cell_type": "markdown",
   "metadata": {},
   "source": [
    "На этом все! Спасибо за внимание! Жду ваших комментариев"
   ]
  },
  {
   "cell_type": "code",
   "execution_count": null,
   "metadata": {},
   "outputs": [],
   "source": []
  }
 ],
 "metadata": {
  "kernelspec": {
   "display_name": "Python 3",
   "language": "python",
   "name": "python3"
  },
  "language_info": {
   "codemirror_mode": {
    "name": "ipython",
    "version": 3
   },
   "file_extension": ".py",
   "mimetype": "text/x-python",
   "name": "python",
   "nbconvert_exporter": "python",
   "pygments_lexer": "ipython3",
   "version": "3.7.1"
  }
 },
 "nbformat": 4,
 "nbformat_minor": 2
}
